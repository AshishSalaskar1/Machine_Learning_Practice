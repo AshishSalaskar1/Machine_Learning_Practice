{
 "cells": [
  {
   "cell_type": "code",
   "execution_count": 1,
   "metadata": {},
   "outputs": [],
   "source": [
    "import  numpy as np\n",
    "import pandas as pd\n",
    "import matplotlib.pyplot as plt"
   ]
  },
  {
   "cell_type": "code",
   "execution_count": 140,
   "metadata": {},
   "outputs": [
    {
     "data": {
      "text/html": [
       "<div>\n",
       "<style scoped>\n",
       "    .dataframe tbody tr th:only-of-type {\n",
       "        vertical-align: middle;\n",
       "    }\n",
       "\n",
       "    .dataframe tbody tr th {\n",
       "        vertical-align: top;\n",
       "    }\n",
       "\n",
       "    .dataframe thead th {\n",
       "        text-align: right;\n",
       "    }\n",
       "</style>\n",
       "<table border=\"1\" class=\"dataframe\">\n",
       "  <thead>\n",
       "    <tr style=\"text-align: right;\">\n",
       "      <th></th>\n",
       "      <th>OUTLOOK</th>\n",
       "      <th>TEMPERATURE</th>\n",
       "      <th>HUMIDITY</th>\n",
       "      <th>WINDY</th>\n",
       "      <th>PLAY_GOLF</th>\n",
       "    </tr>\n",
       "  </thead>\n",
       "  <tbody>\n",
       "    <tr>\n",
       "      <th>0</th>\n",
       "      <td>Rainy</td>\n",
       "      <td>Hot</td>\n",
       "      <td>High</td>\n",
       "      <td>False</td>\n",
       "      <td>No</td>\n",
       "    </tr>\n",
       "    <tr>\n",
       "      <th>1</th>\n",
       "      <td>Rainy</td>\n",
       "      <td>Hot</td>\n",
       "      <td>High</td>\n",
       "      <td>True</td>\n",
       "      <td>No</td>\n",
       "    </tr>\n",
       "  </tbody>\n",
       "</table>\n",
       "</div>"
      ],
      "text/plain": [
       "  OUTLOOK TEMPERATURE HUMIDITY  WINDY PLAY_GOLF\n",
       "0   Rainy         Hot     High  False        No\n",
       "1   Rainy         Hot     High   True        No"
      ]
     },
     "execution_count": 140,
     "metadata": {},
     "output_type": "execute_result"
    }
   ],
   "source": [
    "df = pd.read_csv(\"datasets/play_golf.csv\")\n",
    "df.head(2)"
   ]
  },
  {
   "cell_type": "code",
   "execution_count": 157,
   "metadata": {},
   "outputs": [
    {
     "name": "stdout",
     "output_type": "stream",
     "text": [
      "['OUTLOOK', 'TEMPERATURE', 'HUMIDITY', 'WINDY']\n",
      "['No', 'Yes']\n",
      "14\n"
     ]
    }
   ],
   "source": [
    "X = df.iloc[:, :-1]\n",
    "y = df.iloc[:,-1]\n",
    "\n",
    "features = list(X.columns)\n",
    "classes = list(y.unique())\n",
    "classes = [str(x) for x in classes]\n",
    "features = [str(x) for x in features]\n",
    "\n",
    "nC = len(classes)\n",
    "n = X.shape[0]\n",
    "\n",
    "print(features)\n",
    "print(classes)\n",
    "print(n)"
   ]
  },
  {
   "cell_type": "markdown",
   "metadata": {},
   "source": [
    "### Find : P(yes) and P(No)"
   ]
  },
  {
   "cell_type": "code",
   "execution_count": 158,
   "metadata": {},
   "outputs": [
    {
     "name": "stdout",
     "output_type": "stream",
     "text": [
      "{'No': 0.35714285714285715, 'Yes': 0.6428571428571429}\n",
      "{'No': 5, 'Yes': 9}\n"
     ]
    }
   ],
   "source": [
    "class_probs = {}\n",
    "class_count = {}\n",
    "for i in classes:\n",
    "    count = sum([1 for j in y.values if j==i])\n",
    "    class_count[i] = count\n",
    "    class_probs[i] = count / n\n",
    "\n",
    "print(class_probs)\n",
    "print(class_count)"
   ]
  },
  {
   "cell_type": "code",
   "execution_count": null,
   "metadata": {},
   "outputs": [],
   "source": []
  },
  {
   "cell_type": "markdown",
   "metadata": {},
   "source": [
    "### Find : P(Outlook|yes/no), P(Temperature|yes/no)"
   ]
  },
  {
   "cell_type": "code",
   "execution_count": 168,
   "metadata": {},
   "outputs": [
    {
     "data": {
      "text/plain": [
       "{'OUTLOOK': {'Rainy': {'No': 0, 'Yes': 0},\n",
       "  'Overcast': {'No': 0, 'Yes': 0},\n",
       "  'Sunny': {'No': 0, 'Yes': 0}},\n",
       " 'TEMPERATURE': {'Hot': {'No': 0, 'Yes': 0},\n",
       "  'Mild': {'No': 0, 'Yes': 0},\n",
       "  'Cool': {'No': 0, 'Yes': 0}},\n",
       " 'HUMIDITY': {'High': {'No': 0, 'Yes': 0}, 'Normal': {'No': 0, 'Yes': 0}},\n",
       " 'WINDY': {'False': {'No': 0, 'Yes': 0}, 'True': {'No': 0, 'Yes': 0}}}"
      ]
     },
     "execution_count": 168,
     "metadata": {},
     "output_type": "execute_result"
    }
   ],
   "source": [
    "feature_probs = {}\n",
    "\n",
    "for i in features:\n",
    "    feature_probs[i] = {}\n",
    "    for j in list(map(str,X[i].unique())):\n",
    "        feature_probs[i][j] = {}\n",
    "        for y_class in classes:\n",
    "            feature_probs[i][j][y_class] = 0\n",
    "            \n",
    "feature_probs"
   ]
  },
  {
   "cell_type": "code",
   "execution_count": 176,
   "metadata": {},
   "outputs": [
    {
     "name": "stdout",
     "output_type": "stream",
     "text": [
      "Likelihoods : \n",
      "\n",
      "{'OUTLOOK': {'Rainy': {'No': 0.6, 'Yes': 0.2222222222222222}, 'Overcast': {'No': 0.0, 'Yes': 0.4444444444444444}, 'Sunny': {'No': 0.4, 'Yes': 0.3333333333333333}}, 'TEMPERATURE': {'Hot': {'No': 0.4, 'Yes': 0.2222222222222222}, 'Mild': {'No': 0.4, 'Yes': 0.4444444444444444}, 'Cool': {'No': 0.2, 'Yes': 0.3333333333333333}}, 'HUMIDITY': {'High': {'No': 0.8, 'Yes': 0.3333333333333333}, 'Normal': {'No': 0.2, 'Yes': 0.6666666666666666}}, 'WINDY': {'False': {'No': 0.4, 'Yes': 0.6666666666666666}, 'True': {'No': 0.6, 'Yes': 0.3333333333333333}}}\n"
     ]
    }
   ],
   "source": [
    "for f in features:\n",
    "    for feat_class in X[f].unique():\n",
    "        for class_label in classes:\n",
    "            f_col = X[f].values\n",
    "            y_col = y.values\n",
    "\n",
    "            count = 0\n",
    "            for i in range(len(y_col)):\n",
    "                if y_col[i] == class_label and f_col[i] == feat_class:\n",
    "                    count += 1\n",
    "            feature_probs[f][str(feat_class)][class_label] = count/class_count[class_label]\n",
    "\n",
    "            \n",
    "print(\"Likelihoods : \\n\")\n",
    "print(feature_probs)"
   ]
  },
  {
   "cell_type": "markdown",
   "metadata": {},
   "source": [
    "### Test"
   ]
  },
  {
   "cell_type": "code",
   "execution_count": 177,
   "metadata": {},
   "outputs": [],
   "source": [
    "test_data = ['Sunny', 'Hot', 'Normal', 'False']"
   ]
  },
  {
   "cell_type": "markdown",
   "metadata": {},
   "source": [
    "### P( Yes/No | test_data )"
   ]
  },
  {
   "cell_type": "code",
   "execution_count": 178,
   "metadata": {},
   "outputs": [
    {
     "data": {
      "text/plain": [
       "0.4"
      ]
     },
     "execution_count": 178,
     "metadata": {},
     "output_type": "execute_result"
    }
   ],
   "source": [
    "feature_probs['WINDY']['False'][\"No\"]\n",
    "# list(feature_probs['WINDY'].keys())"
   ]
  },
  {
   "cell_type": "code",
   "execution_count": 179,
   "metadata": {},
   "outputs": [
    {
     "name": "stdout",
     "output_type": "stream",
     "text": [
      "TEST DATA :  {'OUTLOOK': 'Sunny', 'TEMPERATURE': 'Hot', 'HUMIDITY': 'Normal', 'WINDY': 'False'}\n",
      "{'OUTLOOK': 0, 'TEMPERATURE': 0, 'HUMIDITY': 0, 'WINDY': 0.021164021164021163}\n"
     ]
    }
   ],
   "source": [
    "def classify(test_data):\n",
    "    test = {}\n",
    "    for i in range(len(features)):\n",
    "        test[features[i]] = test_data[i]\n",
    "    print(\"TEST DATA : \",test)\n",
    "    \n",
    "    probs = {}\n",
    "    for f in features:\n",
    "        probs[f] = 0\n",
    "    \n",
    "    for class_label in classes:\n",
    "        p = class_probs[class_label]\n",
    "        for feature_name in test.keys():\n",
    "#             print(feature_name,test[feature_name],class_label,sep=\"\\t\")\n",
    "            p = p * feature_probs[feature_name][test[feature_name]][class_label]\n",
    "        probs[f] = p\n",
    "    \n",
    "    print(probs)\n",
    "    max_prob_index = \n",
    "    \n",
    "classify(test_data)"
   ]
  },
  {
   "cell_type": "code",
   "execution_count": null,
   "metadata": {},
   "outputs": [],
   "source": []
  },
  {
   "cell_type": "code",
   "execution_count": null,
   "metadata": {},
   "outputs": [],
   "source": []
  },
  {
   "cell_type": "code",
   "execution_count": null,
   "metadata": {},
   "outputs": [],
   "source": []
  },
  {
   "cell_type": "code",
   "execution_count": null,
   "metadata": {},
   "outputs": [],
   "source": []
  }
 ],
 "metadata": {
  "kernelspec": {
   "display_name": "Python 3",
   "language": "python",
   "name": "python3"
  },
  "language_info": {
   "codemirror_mode": {
    "name": "ipython",
    "version": 3
   },
   "file_extension": ".py",
   "mimetype": "text/x-python",
   "name": "python",
   "nbconvert_exporter": "python",
   "pygments_lexer": "ipython3",
   "version": "3.8.3"
  }
 },
 "nbformat": 4,
 "nbformat_minor": 4
}
